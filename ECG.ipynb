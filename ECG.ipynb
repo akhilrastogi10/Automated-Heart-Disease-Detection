{
  "nbformat": 4,
  "nbformat_minor": 0,
  "metadata": {
    "colab": {
      "provenance": []
    },
    "kernelspec": {
      "name": "python3",
      "display_name": "Python 3"
    },
    "language_info": {
      "name": "python"
    }
  },
  "cells": [
    {
      "cell_type": "code",
      "execution_count": 1,
      "metadata": {
        "colab": {
          "base_uri": "https://localhost:8080/"
        },
        "id": "ENyEnVcfrwq5",
        "outputId": "c5658c95-90dc-4a97-ec69-1ca97e188716"
      },
      "outputs": [
        {
          "output_type": "stream",
          "name": "stdout",
          "text": [
            "Requirement already satisfied: gdown in /usr/local/lib/python3.10/dist-packages (5.2.0)\n",
            "Requirement already satisfied: beautifulsoup4 in /usr/local/lib/python3.10/dist-packages (from gdown) (4.12.3)\n",
            "Requirement already satisfied: filelock in /usr/local/lib/python3.10/dist-packages (from gdown) (3.16.1)\n",
            "Requirement already satisfied: requests[socks] in /usr/local/lib/python3.10/dist-packages (from gdown) (2.32.3)\n",
            "Requirement already satisfied: tqdm in /usr/local/lib/python3.10/dist-packages (from gdown) (4.66.6)\n",
            "Requirement already satisfied: soupsieve>1.2 in /usr/local/lib/python3.10/dist-packages (from beautifulsoup4->gdown) (2.6)\n",
            "Requirement already satisfied: charset-normalizer<4,>=2 in /usr/local/lib/python3.10/dist-packages (from requests[socks]->gdown) (3.4.0)\n",
            "Requirement already satisfied: idna<4,>=2.5 in /usr/local/lib/python3.10/dist-packages (from requests[socks]->gdown) (3.10)\n",
            "Requirement already satisfied: urllib3<3,>=1.21.1 in /usr/local/lib/python3.10/dist-packages (from requests[socks]->gdown) (2.2.3)\n",
            "Requirement already satisfied: certifi>=2017.4.17 in /usr/local/lib/python3.10/dist-packages (from requests[socks]->gdown) (2024.8.30)\n",
            "Requirement already satisfied: PySocks!=1.5.7,>=1.5.6 in /usr/local/lib/python3.10/dist-packages (from requests[socks]->gdown) (1.7.1)\n"
          ]
        }
      ],
      "source": [
        "# Step 1: Install required packages\n",
        "!pip install gdown\n",
        "\n",
        "import gdown\n",
        "import zipfile\n",
        "import os"
      ]
    },
    {
      "cell_type": "code",
      "source": [
        "from google.colab import drive\n",
        "drive.mount('/content/drive')"
      ],
      "metadata": {
        "colab": {
          "base_uri": "https://localhost:8080/"
        },
        "id": "EUZeQ5T3r1Ig",
        "outputId": "dbb8bb8b-0fee-411a-e1e8-280c1a7640e2"
      },
      "execution_count": 2,
      "outputs": [
        {
          "output_type": "stream",
          "name": "stdout",
          "text": [
            "Mounted at /content/drive\n"
          ]
        }
      ]
    },
    {
      "cell_type": "code",
      "source": [
        "import zipfile\n",
        "\n",
        "# Check contents of abnormal ECG zip\n",
        "abnormal_zip_path = '/content/ECG_Images_of_Patient_with_Abnormal_Heartbeat.zip'\n",
        "normal_zip_path = '/content/Normal_Person_ECG_Images.zip'\n",
        "\n",
        "# Open and list contents of abnormal zip\n",
        "with zipfile.ZipFile(abnormal_zip_path, 'r') as zip_ref:\n",
        "    print(f\"Contents of {abnormal_zip_path}:\")\n",
        "    print(zip_ref.namelist())\n",
        "\n",
        "# Open and list contents of normal zip\n",
        "with zipfile.ZipFile(normal_zip_path, 'r') as zip_ref:\n",
        "    print(f\"Contents of {normal_zip_path}:\")\n",
        "    print(zip_ref.namelist())\n"
      ],
      "metadata": {
        "colab": {
          "base_uri": "https://localhost:8080/"
        },
        "id": "Ok2wQmYsrzq9",
        "outputId": "c2d36b86-4dfa-425c-e457-0a2be63b751c"
      },
      "execution_count": 7,
      "outputs": [
        {
          "output_type": "stream",
          "name": "stdout",
          "text": [
            "Contents of /content/ECG_Images_of_Patient_with_Abnormal_Heartbeat.zip:\n",
            "['ECG_Images_of_Patient_with_Abnormal_Heartbeat/', 'ECG_Images_of_Patient_with_Abnormal_Heartbeat/HB(1).jpg', 'ECG_Images_of_Patient_with_Abnormal_Heartbeat/HB(10).jpg', 'ECG_Images_of_Patient_with_Abnormal_Heartbeat/HB(100).jpg', 'ECG_Images_of_Patient_with_Abnormal_Heartbeat/HB(101).jpg', 'ECG_Images_of_Patient_with_Abnormal_Heartbeat/HB(102).jpg', 'ECG_Images_of_Patient_with_Abnormal_Heartbeat/HB(103).jpg', 'ECG_Images_of_Patient_with_Abnormal_Heartbeat/HB(104).jpg', 'ECG_Images_of_Patient_with_Abnormal_Heartbeat/HB(105).jpg', 'ECG_Images_of_Patient_with_Abnormal_Heartbeat/HB(106).jpg', 'ECG_Images_of_Patient_with_Abnormal_Heartbeat/HB(107).jpg', 'ECG_Images_of_Patient_with_Abnormal_Heartbeat/HB(108).jpg', 'ECG_Images_of_Patient_with_Abnormal_Heartbeat/HB(109).jpg', 'ECG_Images_of_Patient_with_Abnormal_Heartbeat/HB(11).jpg', 'ECG_Images_of_Patient_with_Abnormal_Heartbeat/HB(110).jpg', 'ECG_Images_of_Patient_with_Abnormal_Heartbeat/HB(111).jpg', 'ECG_Images_of_Patient_with_Abnormal_Heartbeat/HB(112).jpg', 'ECG_Images_of_Patient_with_Abnormal_Heartbeat/HB(113).jpg', 'ECG_Images_of_Patient_with_Abnormal_Heartbeat/HB(114).jpg', 'ECG_Images_of_Patient_with_Abnormal_Heartbeat/HB(115).jpg', 'ECG_Images_of_Patient_with_Abnormal_Heartbeat/HB(116).jpg', 'ECG_Images_of_Patient_with_Abnormal_Heartbeat/HB(117).jpg', 'ECG_Images_of_Patient_with_Abnormal_Heartbeat/HB(118).jpg', 'ECG_Images_of_Patient_with_Abnormal_Heartbeat/HB(119).jpg', 'ECG_Images_of_Patient_with_Abnormal_Heartbeat/HB(12).jpg', 'ECG_Images_of_Patient_with_Abnormal_Heartbeat/HB(120).jpg', 'ECG_Images_of_Patient_with_Abnormal_Heartbeat/HB(121).jpg', 'ECG_Images_of_Patient_with_Abnormal_Heartbeat/HB(122).jpg', 'ECG_Images_of_Patient_with_Abnormal_Heartbeat/HB(123).jpg', 'ECG_Images_of_Patient_with_Abnormal_Heartbeat/HB(124).jpg', 'ECG_Images_of_Patient_with_Abnormal_Heartbeat/HB(125).jpg', 'ECG_Images_of_Patient_with_Abnormal_Heartbeat/HB(126).jpg', 'ECG_Images_of_Patient_with_Abnormal_Heartbeat/HB(127).jpg', 'ECG_Images_of_Patient_with_Abnormal_Heartbeat/HB(128).jpg', 'ECG_Images_of_Patient_with_Abnormal_Heartbeat/HB(129).jpg', 'ECG_Images_of_Patient_with_Abnormal_Heartbeat/HB(13).jpg', 'ECG_Images_of_Patient_with_Abnormal_Heartbeat/HB(130).jpg', 'ECG_Images_of_Patient_with_Abnormal_Heartbeat/HB(131).jpg', 'ECG_Images_of_Patient_with_Abnormal_Heartbeat/HB(132).jpg', 'ECG_Images_of_Patient_with_Abnormal_Heartbeat/HB(133).jpg', 'ECG_Images_of_Patient_with_Abnormal_Heartbeat/HB(134).jpg', 'ECG_Images_of_Patient_with_Abnormal_Heartbeat/HB(135).jpg', 'ECG_Images_of_Patient_with_Abnormal_Heartbeat/HB(136).jpg', 'ECG_Images_of_Patient_with_Abnormal_Heartbeat/HB(137).jpg', 'ECG_Images_of_Patient_with_Abnormal_Heartbeat/HB(138).jpg', 'ECG_Images_of_Patient_with_Abnormal_Heartbeat/HB(139).jpg', 'ECG_Images_of_Patient_with_Abnormal_Heartbeat/HB(14).jpg', 'ECG_Images_of_Patient_with_Abnormal_Heartbeat/HB(140).jpg', 'ECG_Images_of_Patient_with_Abnormal_Heartbeat/HB(141).jpg', 'ECG_Images_of_Patient_with_Abnormal_Heartbeat/HB(142).jpg', 'ECG_Images_of_Patient_with_Abnormal_Heartbeat/HB(143).jpg', 'ECG_Images_of_Patient_with_Abnormal_Heartbeat/HB(144).jpg', 'ECG_Images_of_Patient_with_Abnormal_Heartbeat/HB(145).jpg', 'ECG_Images_of_Patient_with_Abnormal_Heartbeat/HB(146).jpg', 'ECG_Images_of_Patient_with_Abnormal_Heartbeat/HB(147).jpg', 'ECG_Images_of_Patient_with_Abnormal_Heartbeat/HB(148).jpg', 'ECG_Images_of_Patient_with_Abnormal_Heartbeat/HB(149).jpg', 'ECG_Images_of_Patient_with_Abnormal_Heartbeat/HB(15).jpg', 'ECG_Images_of_Patient_with_Abnormal_Heartbeat/HB(150).jpg', 'ECG_Images_of_Patient_with_Abnormal_Heartbeat/HB(151).jpg', 'ECG_Images_of_Patient_with_Abnormal_Heartbeat/HB(152).jpg', 'ECG_Images_of_Patient_with_Abnormal_Heartbeat/HB(153).jpg', 'ECG_Images_of_Patient_with_Abnormal_Heartbeat/HB(154).jpg', 'ECG_Images_of_Patient_with_Abnormal_Heartbeat/HB(155).jpg', 'ECG_Images_of_Patient_with_Abnormal_Heartbeat/HB(156).jpg', 'ECG_Images_of_Patient_with_Abnormal_Heartbeat/HB(157).jpg', 'ECG_Images_of_Patient_with_Abnormal_Heartbeat/HB(158).jpg', 'ECG_Images_of_Patient_with_Abnormal_Heartbeat/HB(159).jpg', 'ECG_Images_of_Patient_with_Abnormal_Heartbeat/HB(16).jpg', 'ECG_Images_of_Patient_with_Abnormal_Heartbeat/HB(160).jpg', 'ECG_Images_of_Patient_with_Abnormal_Heartbeat/HB(161).jpg', 'ECG_Images_of_Patient_with_Abnormal_Heartbeat/HB(162).jpg', 'ECG_Images_of_Patient_with_Abnormal_Heartbeat/HB(163).jpg', 'ECG_Images_of_Patient_with_Abnormal_Heartbeat/HB(164).jpg', 'ECG_Images_of_Patient_with_Abnormal_Heartbeat/HB(165).jpg', 'ECG_Images_of_Patient_with_Abnormal_Heartbeat/HB(166).jpg', 'ECG_Images_of_Patient_with_Abnormal_Heartbeat/HB(167).jpg', 'ECG_Images_of_Patient_with_Abnormal_Heartbeat/HB(168).jpg', 'ECG_Images_of_Patient_with_Abnormal_Heartbeat/HB(169).jpg', 'ECG_Images_of_Patient_with_Abnormal_Heartbeat/HB(17).jpg', 'ECG_Images_of_Patient_with_Abnormal_Heartbeat/HB(170).jpg', 'ECG_Images_of_Patient_with_Abnormal_Heartbeat/HB(171).jpg', 'ECG_Images_of_Patient_with_Abnormal_Heartbeat/HB(172).jpg', 'ECG_Images_of_Patient_with_Abnormal_Heartbeat/HB(173).jpg', 'ECG_Images_of_Patient_with_Abnormal_Heartbeat/HB(174).jpg', 'ECG_Images_of_Patient_with_Abnormal_Heartbeat/HB(175).jpg', 'ECG_Images_of_Patient_with_Abnormal_Heartbeat/HB(176).jpg', 'ECG_Images_of_Patient_with_Abnormal_Heartbeat/HB(177).jpg', 'ECG_Images_of_Patient_with_Abnormal_Heartbeat/HB(178).jpg', 'ECG_Images_of_Patient_with_Abnormal_Heartbeat/HB(179).jpg', 'ECG_Images_of_Patient_with_Abnormal_Heartbeat/HB(18).jpg', 'ECG_Images_of_Patient_with_Abnormal_Heartbeat/HB(180).jpg', 'ECG_Images_of_Patient_with_Abnormal_Heartbeat/HB(181).jpg', 'ECG_Images_of_Patient_with_Abnormal_Heartbeat/HB(182).jpg', 'ECG_Images_of_Patient_with_Abnormal_Heartbeat/HB(183).jpg', 'ECG_Images_of_Patient_with_Abnormal_Heartbeat/HB(184).jpg', 'ECG_Images_of_Patient_with_Abnormal_Heartbeat/HB(185).jpg', 'ECG_Images_of_Patient_with_Abnormal_Heartbeat/HB(186).jpg', 'ECG_Images_of_Patient_with_Abnormal_Heartbeat/HB(187).jpg', 'ECG_Images_of_Patient_with_Abnormal_Heartbeat/HB(188).jpg', 'ECG_Images_of_Patient_with_Abnormal_Heartbeat/HB(189).jpg', 'ECG_Images_of_Patient_with_Abnormal_Heartbeat/HB(19).jpg', 'ECG_Images_of_Patient_with_Abnormal_Heartbeat/HB(190).jpg', 'ECG_Images_of_Patient_with_Abnormal_Heartbeat/HB(191).jpg', 'ECG_Images_of_Patient_with_Abnormal_Heartbeat/HB(192).jpg', 'ECG_Images_of_Patient_with_Abnormal_Heartbeat/HB(193).jpg', 'ECG_Images_of_Patient_with_Abnormal_Heartbeat/HB(194).jpg', 'ECG_Images_of_Patient_with_Abnormal_Heartbeat/HB(195).jpg', 'ECG_Images_of_Patient_with_Abnormal_Heartbeat/HB(196).jpg', 'ECG_Images_of_Patient_with_Abnormal_Heartbeat/HB(197).jpg', 'ECG_Images_of_Patient_with_Abnormal_Heartbeat/HB(198).jpg', 'ECG_Images_of_Patient_with_Abnormal_Heartbeat/HB(199).jpg', 'ECG_Images_of_Patient_with_Abnormal_Heartbeat/HB(2).jpg', 'ECG_Images_of_Patient_with_Abnormal_Heartbeat/HB(20).jpg', 'ECG_Images_of_Patient_with_Abnormal_Heartbeat/HB(200).jpg', 'ECG_Images_of_Patient_with_Abnormal_Heartbeat/HB(201).jpg', 'ECG_Images_of_Patient_with_Abnormal_Heartbeat/HB(202).jpg', 'ECG_Images_of_Patient_with_Abnormal_Heartbeat/HB(203).jpg', 'ECG_Images_of_Patient_with_Abnormal_Heartbeat/HB(204).jpg', 'ECG_Images_of_Patient_with_Abnormal_Heartbeat/HB(205).jpg', 'ECG_Images_of_Patient_with_Abnormal_Heartbeat/HB(206).jpg', 'ECG_Images_of_Patient_with_Abnormal_Heartbeat/HB(207).jpg', 'ECG_Images_of_Patient_with_Abnormal_Heartbeat/HB(208).jpg', 'ECG_Images_of_Patient_with_Abnormal_Heartbeat/HB(209).jpg', 'ECG_Images_of_Patient_with_Abnormal_Heartbeat/HB(21).jpg', 'ECG_Images_of_Patient_with_Abnormal_Heartbeat/HB(210).jpg', 'ECG_Images_of_Patient_with_Abnormal_Heartbeat/HB(211).jpg', 'ECG_Images_of_Patient_with_Abnormal_Heartbeat/HB(212).jpg', 'ECG_Images_of_Patient_with_Abnormal_Heartbeat/HB(213).jpg', 'ECG_Images_of_Patient_with_Abnormal_Heartbeat/HB(214).jpg', 'ECG_Images_of_Patient_with_Abnormal_Heartbeat/HB(215).jpg', 'ECG_Images_of_Patient_with_Abnormal_Heartbeat/HB(216).jpg', 'ECG_Images_of_Patient_with_Abnormal_Heartbeat/HB(217).jpg', 'ECG_Images_of_Patient_with_Abnormal_Heartbeat/HB(218).jpg', 'ECG_Images_of_Patient_with_Abnormal_Heartbeat/HB(219).jpg', 'ECG_Images_of_Patient_with_Abnormal_Heartbeat/HB(22).jpg', 'ECG_Images_of_Patient_with_Abnormal_Heartbeat/HB(220).jpg', 'ECG_Images_of_Patient_with_Abnormal_Heartbeat/HB(221).jpg', 'ECG_Images_of_Patient_with_Abnormal_Heartbeat/HB(222).jpg', 'ECG_Images_of_Patient_with_Abnormal_Heartbeat/HB(223).jpg', 'ECG_Images_of_Patient_with_Abnormal_Heartbeat/HB(224).jpg', 'ECG_Images_of_Patient_with_Abnormal_Heartbeat/HB(225).jpg', 'ECG_Images_of_Patient_with_Abnormal_Heartbeat/HB(226).jpg', 'ECG_Images_of_Patient_with_Abnormal_Heartbeat/HB(227).jpg', 'ECG_Images_of_Patient_with_Abnormal_Heartbeat/HB(228).jpg', 'ECG_Images_of_Patient_with_Abnormal_Heartbeat/HB(229).jpg', 'ECG_Images_of_Patient_with_Abnormal_Heartbeat/HB(23).jpg', 'ECG_Images_of_Patient_with_Abnormal_Heartbeat/HB(230).jpg', 'ECG_Images_of_Patient_with_Abnormal_Heartbeat/HB(231).jpg', 'ECG_Images_of_Patient_with_Abnormal_Heartbeat/HB(232).jpg', 'ECG_Images_of_Patient_with_Abnormal_Heartbeat/HB(233).jpg', 'ECG_Images_of_Patient_with_Abnormal_Heartbeat/HB(24).jpg', 'ECG_Images_of_Patient_with_Abnormal_Heartbeat/HB(25).jpg', 'ECG_Images_of_Patient_with_Abnormal_Heartbeat/HB(26).jpg', 'ECG_Images_of_Patient_with_Abnormal_Heartbeat/HB(27).jpg', 'ECG_Images_of_Patient_with_Abnormal_Heartbeat/HB(28).jpg', 'ECG_Images_of_Patient_with_Abnormal_Heartbeat/HB(29).jpg', 'ECG_Images_of_Patient_with_Abnormal_Heartbeat/HB(3).jpg', 'ECG_Images_of_Patient_with_Abnormal_Heartbeat/HB(30).jpg', 'ECG_Images_of_Patient_with_Abnormal_Heartbeat/HB(31).jpg', 'ECG_Images_of_Patient_with_Abnormal_Heartbeat/HB(32).jpg', 'ECG_Images_of_Patient_with_Abnormal_Heartbeat/HB(33).jpg', 'ECG_Images_of_Patient_with_Abnormal_Heartbeat/HB(34).jpg', 'ECG_Images_of_Patient_with_Abnormal_Heartbeat/HB(35).jpg', 'ECG_Images_of_Patient_with_Abnormal_Heartbeat/HB(36).jpg', 'ECG_Images_of_Patient_with_Abnormal_Heartbeat/HB(37).jpg', 'ECG_Images_of_Patient_with_Abnormal_Heartbeat/HB(38).jpg', 'ECG_Images_of_Patient_with_Abnormal_Heartbeat/HB(39).jpg', 'ECG_Images_of_Patient_with_Abnormal_Heartbeat/HB(4).jpg', 'ECG_Images_of_Patient_with_Abnormal_Heartbeat/HB(40).jpg', 'ECG_Images_of_Patient_with_Abnormal_Heartbeat/HB(41).jpg', 'ECG_Images_of_Patient_with_Abnormal_Heartbeat/HB(42).jpg', 'ECG_Images_of_Patient_with_Abnormal_Heartbeat/HB(43).jpg', 'ECG_Images_of_Patient_with_Abnormal_Heartbeat/HB(44).jpg', 'ECG_Images_of_Patient_with_Abnormal_Heartbeat/HB(45).jpg', 'ECG_Images_of_Patient_with_Abnormal_Heartbeat/HB(46).jpg', 'ECG_Images_of_Patient_with_Abnormal_Heartbeat/HB(47).jpg', 'ECG_Images_of_Patient_with_Abnormal_Heartbeat/HB(48).jpg', 'ECG_Images_of_Patient_with_Abnormal_Heartbeat/HB(49).jpg', 'ECG_Images_of_Patient_with_Abnormal_Heartbeat/HB(5).jpg', 'ECG_Images_of_Patient_with_Abnormal_Heartbeat/HB(50).jpg', 'ECG_Images_of_Patient_with_Abnormal_Heartbeat/HB(51).jpg', 'ECG_Images_of_Patient_with_Abnormal_Heartbeat/HB(52).jpg', 'ECG_Images_of_Patient_with_Abnormal_Heartbeat/HB(53).jpg', 'ECG_Images_of_Patient_with_Abnormal_Heartbeat/HB(54).jpg', 'ECG_Images_of_Patient_with_Abnormal_Heartbeat/HB(55).jpg', 'ECG_Images_of_Patient_with_Abnormal_Heartbeat/HB(56).jpg', 'ECG_Images_of_Patient_with_Abnormal_Heartbeat/HB(57).jpg', 'ECG_Images_of_Patient_with_Abnormal_Heartbeat/HB(58).jpg', 'ECG_Images_of_Patient_with_Abnormal_Heartbeat/HB(59).jpg', 'ECG_Images_of_Patient_with_Abnormal_Heartbeat/HB(6).jpg', 'ECG_Images_of_Patient_with_Abnormal_Heartbeat/HB(60).jpg', 'ECG_Images_of_Patient_with_Abnormal_Heartbeat/HB(61).jpg', 'ECG_Images_of_Patient_with_Abnormal_Heartbeat/HB(62).jpg', 'ECG_Images_of_Patient_with_Abnormal_Heartbeat/HB(63).jpg', 'ECG_Images_of_Patient_with_Abnormal_Heartbeat/HB(64).jpg', 'ECG_Images_of_Patient_with_Abnormal_Heartbeat/HB(65).jpg', 'ECG_Images_of_Patient_with_Abnormal_Heartbeat/HB(66).jpg', 'ECG_Images_of_Patient_with_Abnormal_Heartbeat/HB(67).jpg', 'ECG_Images_of_Patient_with_Abnormal_Heartbeat/HB(68).jpg', 'ECG_Images_of_Patient_with_Abnormal_Heartbeat/HB(69).jpg', 'ECG_Images_of_Patient_with_Abnormal_Heartbeat/HB(7).jpg', 'ECG_Images_of_Patient_with_Abnormal_Heartbeat/HB(70).jpg', 'ECG_Images_of_Patient_with_Abnormal_Heartbeat/HB(71).jpg', 'ECG_Images_of_Patient_with_Abnormal_Heartbeat/HB(72).jpg', 'ECG_Images_of_Patient_with_Abnormal_Heartbeat/HB(73).jpg', 'ECG_Images_of_Patient_with_Abnormal_Heartbeat/HB(74).jpg', 'ECG_Images_of_Patient_with_Abnormal_Heartbeat/HB(75).jpg', 'ECG_Images_of_Patient_with_Abnormal_Heartbeat/HB(76).jpg', 'ECG_Images_of_Patient_with_Abnormal_Heartbeat/HB(77).jpg', 'ECG_Images_of_Patient_with_Abnormal_Heartbeat/HB(78).jpg', 'ECG_Images_of_Patient_with_Abnormal_Heartbeat/HB(79).jpg', 'ECG_Images_of_Patient_with_Abnormal_Heartbeat/HB(8).jpg', 'ECG_Images_of_Patient_with_Abnormal_Heartbeat/HB(80).jpg', 'ECG_Images_of_Patient_with_Abnormal_Heartbeat/HB(81).jpg', 'ECG_Images_of_Patient_with_Abnormal_Heartbeat/HB(82).jpg', 'ECG_Images_of_Patient_with_Abnormal_Heartbeat/HB(83).jpg', 'ECG_Images_of_Patient_with_Abnormal_Heartbeat/HB(84).jpg', 'ECG_Images_of_Patient_with_Abnormal_Heartbeat/HB(85).jpg', 'ECG_Images_of_Patient_with_Abnormal_Heartbeat/HB(86).jpg', 'ECG_Images_of_Patient_with_Abnormal_Heartbeat/HB(87).jpg', 'ECG_Images_of_Patient_with_Abnormal_Heartbeat/HB(88).jpg', 'ECG_Images_of_Patient_with_Abnormal_Heartbeat/HB(89).jpg', 'ECG_Images_of_Patient_with_Abnormal_Heartbeat/HB(9).jpg', 'ECG_Images_of_Patient_with_Abnormal_Heartbeat/HB(90).jpg', 'ECG_Images_of_Patient_with_Abnormal_Heartbeat/HB(91).jpg', 'ECG_Images_of_Patient_with_Abnormal_Heartbeat/HB(92).jpg', 'ECG_Images_of_Patient_with_Abnormal_Heartbeat/HB(93).jpg', 'ECG_Images_of_Patient_with_Abnormal_Heartbeat/HB(94).jpg', 'ECG_Images_of_Patient_with_Abnormal_Heartbeat/HB(95).jpg', 'ECG_Images_of_Patient_with_Abnormal_Heartbeat/HB(96).jpg', 'ECG_Images_of_Patient_with_Abnormal_Heartbeat/HB(97).jpg', 'ECG_Images_of_Patient_with_Abnormal_Heartbeat/HB(98).jpg', 'ECG_Images_of_Patient_with_Abnormal_Heartbeat/HB(99).jpg']\n",
            "Contents of /content/Normal_Person_ECG_Images.zip:\n",
            "['Normal Person ECG Images (284x12=3408)/', 'Normal Person ECG Images (284x12=3408)/Normal(115).jpg']\n"
          ]
        }
      ]
    },
    {
      "cell_type": "code",
      "source": [
        "import zipfile\n",
        "import os\n",
        "\n",
        "# Path to the zip file\n",
        "zip_file_path = '/content/ECG_Images_of_Patient_with_Abnormal_Heartbeat.zip'\n",
        "\n",
        "# Extract zip file\n",
        "with zipfile.ZipFile(zip_file_path, 'r') as zip_ref:\n",
        "    zip_ref.extractall('/content')\n",
        "\n",
        "# Path to extracted files\n",
        "abnormal_path = '/content/ECG_Images_of_Patient_with_Abnormal_Heartbeat/'\n",
        "\n",
        "# List and count all images in the abnormal directory\n",
        "abnormal_images = [f for f in os.listdir(abnormal_path) if f.lower().endswith(('.jpg', '.jpeg', '.png'))]\n",
        "\n",
        "print(f\"Total number of abnormal images: {len(abnormal_images)}\")\n",
        "print(f\"List of abnormal images: {abnormal_images}\")\n"
      ],
      "metadata": {
        "colab": {
          "base_uri": "https://localhost:8080/"
        },
        "id": "SFNd-B54tePQ",
        "outputId": "f0e33d41-2a02-4f98-e618-a1d7689893e2"
      },
      "execution_count": 10,
      "outputs": [
        {
          "output_type": "stream",
          "name": "stdout",
          "text": [
            "Total number of abnormal images: 233\n",
            "List of abnormal images: ['HB(162).jpg', 'HB(229).jpg', 'HB(94).jpg', 'HB(4).jpg', 'HB(159).jpg', 'HB(228).jpg', 'HB(199).jpg', 'HB(150).jpg', 'HB(213).jpg', 'HB(82).jpg', 'HB(215).jpg', 'HB(37).jpg', 'HB(134).jpg', 'HB(76).jpg', 'HB(115).jpg', 'HB(223).jpg', 'HB(2).jpg', 'HB(191).jpg', 'HB(211).jpg', 'HB(72).jpg', 'HB(40).jpg', 'HB(121).jpg', 'HB(230).jpg', 'HB(157).jpg', 'HB(31).jpg', 'HB(154).jpg', 'HB(218).jpg', 'HB(80).jpg', 'HB(194).jpg', 'HB(108).jpg', 'HB(30).jpg', 'HB(123).jpg', 'HB(103).jpg', 'HB(126).jpg', 'HB(26).jpg', 'HB(21).jpg', 'HB(169).jpg', 'HB(171).jpg', 'HB(147).jpg', 'HB(183).jpg', 'HB(97).jpg', 'HB(153).jpg', 'HB(100).jpg', 'HB(139).jpg', 'HB(152).jpg', 'HB(193).jpg', 'HB(216).jpg', 'HB(18).jpg', 'HB(122).jpg', 'HB(60).jpg', 'HB(233).jpg', 'HB(149).jpg', 'HB(22).jpg', 'HB(192).jpg', 'HB(43).jpg', 'HB(165).jpg', 'HB(131).jpg', 'HB(129).jpg', 'HB(148).jpg', 'HB(75).jpg', 'HB(29).jpg', 'HB(14).jpg', 'HB(36).jpg', 'HB(142).jpg', 'HB(68).jpg', 'HB(109).jpg', 'HB(130).jpg', 'HB(197).jpg', 'HB(12).jpg', 'HB(198).jpg', 'HB(187).jpg', 'HB(202).jpg', 'HB(140).jpg', 'HB(133).jpg', 'HB(219).jpg', 'HB(176).jpg', 'HB(208).jpg', 'HB(84).jpg', 'HB(158).jpg', 'HB(41).jpg', 'HB(74).jpg', 'HB(99).jpg', 'HB(125).jpg', 'HB(210).jpg', 'HB(181).jpg', 'HB(137).jpg', 'HB(73).jpg', 'HB(170).jpg', 'HB(85).jpg', 'HB(78).jpg', 'HB(200).jpg', 'HB(70).jpg', 'HB(15).jpg', 'HB(51).jpg', 'HB(102).jpg', 'HB(225).jpg', 'HB(86).jpg', 'HB(196).jpg', 'HB(175).jpg', 'HB(64).jpg', 'HB(32).jpg', 'HB(145).jpg', 'HB(67).jpg', 'HB(49).jpg', 'HB(135).jpg', 'HB(98).jpg', 'HB(144).jpg', 'HB(95).jpg', 'HB(201).jpg', 'HB(163).jpg', 'HB(174).jpg', 'HB(47).jpg', 'HB(127).jpg', 'HB(214).jpg', 'HB(33).jpg', 'HB(92).jpg', 'HB(124).jpg', 'HB(42).jpg', 'HB(46).jpg', 'HB(172).jpg', 'HB(38).jpg', 'HB(143).jpg', 'HB(128).jpg', 'HB(59).jpg', 'HB(10).jpg', 'HB(116).jpg', 'HB(7).jpg', 'HB(77).jpg', 'HB(5).jpg', 'HB(203).jpg', 'HB(88).jpg', 'HB(114).jpg', 'HB(107).jpg', 'HB(19).jpg', 'HB(89).jpg', 'HB(25).jpg', 'HB(6).jpg', 'HB(48).jpg', 'HB(34).jpg', 'HB(136).jpg', 'HB(146).jpg', 'HB(104).jpg', 'HB(58).jpg', 'HB(178).jpg', 'HB(57).jpg', 'HB(50).jpg', 'HB(189).jpg', 'HB(24).jpg', 'HB(11).jpg', 'HB(3).jpg', 'HB(184).jpg', 'HB(65).jpg', 'HB(179).jpg', 'HB(63).jpg', 'HB(186).jpg', 'HB(23).jpg', 'HB(132).jpg', 'HB(167).jpg', 'HB(222).jpg', 'HB(35).jpg', 'HB(161).jpg', 'HB(55).jpg', 'HB(138).jpg', 'HB(13).jpg', 'HB(8).jpg', 'HB(226).jpg', 'HB(177).jpg', 'HB(56).jpg', 'HB(190).jpg', 'HB(83).jpg', 'HB(220).jpg', 'HB(204).jpg', 'HB(112).jpg', 'HB(101).jpg', 'HB(206).jpg', 'HB(118).jpg', 'HB(164).jpg', 'HB(91).jpg', 'HB(66).jpg', 'HB(110).jpg', 'HB(61).jpg', 'HB(44).jpg', 'HB(141).jpg', 'HB(119).jpg', 'HB(113).jpg', 'HB(62).jpg', 'HB(173).jpg', 'HB(182).jpg', 'HB(168).jpg', 'HB(93).jpg', 'HB(69).jpg', 'HB(156).jpg', 'HB(81).jpg', 'HB(221).jpg', 'HB(20).jpg', 'HB(54).jpg', 'HB(111).jpg', 'HB(45).jpg', 'HB(185).jpg', 'HB(120).jpg', 'HB(231).jpg', 'HB(96).jpg', 'HB(205).jpg', 'HB(106).jpg', 'HB(53).jpg', 'HB(105).jpg', 'HB(207).jpg', 'HB(79).jpg', 'HB(28).jpg', 'HB(232).jpg', 'HB(155).jpg', 'HB(166).jpg', 'HB(195).jpg', 'HB(160).jpg', 'HB(39).jpg', 'HB(1).jpg', 'HB(217).jpg', 'HB(188).jpg', 'HB(71).jpg', 'HB(224).jpg', 'HB(117).jpg', 'HB(9).jpg', 'HB(151).jpg', 'HB(16).jpg', 'HB(87).jpg', 'HB(180).jpg', 'HB(17).jpg', 'HB(212).jpg', 'HB(27).jpg', 'HB(52).jpg', 'HB(90).jpg', 'HB(209).jpg', 'HB(227).jpg']\n"
          ]
        }
      ]
    },
    {
      "cell_type": "code",
      "source": [
        "# Extract the abnormal ECG images to a specified folder\n",
        "with zipfile.ZipFile(abnormal_zip_path, 'r') as zip_ref:\n",
        "    zip_ref.extractall('/content/ECG_Images_of_Patient_with_Abnormal_Heartbeat')\n",
        "\n",
        "# Extract the normal ECG images to a specified folder\n",
        "with zipfile.ZipFile(normal_zip_path, 'r') as zip_ref:\n",
        "    zip_ref.extractall('/content/Normal_Person_ECG_Images')\n"
      ],
      "metadata": {
        "id": "OT1K-YcYsArh"
      },
      "execution_count": 8,
      "outputs": []
    },
    {
      "cell_type": "code",
      "source": [
        "import os\n",
        "\n",
        "abnormal_images_dir = '/content/ECG_Images_of_Patient_with_Abnormal_Heartbeat'\n",
        "normal_images_dir = '/content/Normal_Person_ECG_Images'\n",
        "\n",
        "# List files in the extracted directories\n",
        "abnormal_images = os.listdir(abnormal_images_dir)\n",
        "normal_images = os.listdir(normal_images_dir)\n",
        "\n",
        "print(\"Number of Abnormal images:\", len(abnormal_images))\n",
        "print(\"Number of Normal images:\", len(normal_images))\n"
      ],
      "metadata": {
        "colab": {
          "base_uri": "https://localhost:8080/"
        },
        "id": "1nbJXPhGsE0H",
        "outputId": "fccfe9a5-3704-4a15-b39d-3c9474622a1b"
      },
      "execution_count": 11,
      "outputs": [
        {
          "output_type": "stream",
          "name": "stdout",
          "text": [
            "Number of Abnormal images: 234\n",
            "Number of Normal images: 1\n"
          ]
        }
      ]
    },
    {
      "cell_type": "code",
      "source": [
        "import os\n",
        "import shutil\n",
        "import zipfile\n",
        "\n",
        "# Define the source directory (where abnormal images are stored) and target directories\n",
        "source_directory = '/content/ECG_Images_of_Patient_with_Abnormal_Heartbeat'  # Path for your abnormal images\n",
        "base_directory = r'C:\\Users\\hp\\OneDrive\\Desktop\\mlop\\Data'  # Path where you want to store the splits\n",
        "\n",
        "# Step 1: Create directories for each split (train, validation, test)\n",
        "train_abnormal_dir = os.path.join(base_directory, 'train', 'abnormal')\n",
        "val_abnormal_dir = os.path.join(base_directory, 'validation', 'abnormal')\n",
        "test_abnormal_dir = os.path.join(base_directory, 'test', 'abnormal')\n",
        "\n",
        "# Create directories if they don't exist\n",
        "os.makedirs(train_abnormal_dir, exist_ok=True)\n",
        "os.makedirs(val_abnormal_dir, exist_ok=True)\n",
        "os.makedirs(test_abnormal_dir, exist_ok=True)\n",
        "\n",
        "# Step 2: Move the images into their respective directories\n",
        "def move_files(file_list, source_dir, target_dir):\n",
        "    for file in file_list:\n",
        "        src = os.path.join(source_dir, file)\n",
        "        dst = os.path.join(target_dir, file)\n",
        "        shutil.move(src, dst)\n",
        "\n",
        "# Move the files to respective directories\n",
        "move_files(train_abnormal, source_directory, train_abnormal_dir)\n",
        "move_files(val_abnormal, source_directory, val_abnormal_dir)\n",
        "move_files(test_abnormal, source_directory, test_abnormal_dir)\n",
        "\n",
        "print(\"Files moved to respective directories.\")\n",
        "\n",
        "# Step 3: Create zip files for each set to download\n",
        "def zip_directory(directory, zip_filename):\n",
        "    shutil.make_archive(zip_filename, 'zip', directory)\n",
        "    print(f\"Zip file created for {directory}: {zip_filename}.zip\")\n",
        "\n",
        "# Zip the directories for download\n",
        "zip_directory(train_abnormal_dir, 'train_abnormal_images')\n",
        "zip_directory(val_abnormal_dir, 'val_abnormal_images')\n",
        "zip_directory(test_abnormal_dir, 'test_abnormal_images')\n",
        "\n",
        "print(\"Downloadable zip files created.\")\n"
      ],
      "metadata": {
        "colab": {
          "base_uri": "https://localhost:8080/"
        },
        "id": "w-dmxqxawDWW",
        "outputId": "0c9445ef-b4cb-4a90-f174-9e133cba1699"
      },
      "execution_count": 18,
      "outputs": [
        {
          "output_type": "stream",
          "name": "stdout",
          "text": [
            "Files moved to respective directories.\n",
            "Zip file created for C:\\Users\\hp\\OneDrive\\Desktop\\mlop\\Data/train/abnormal: train_abnormal_images.zip\n",
            "Zip file created for C:\\Users\\hp\\OneDrive\\Desktop\\mlop\\Data/validation/abnormal: val_abnormal_images.zip\n",
            "Zip file created for C:\\Users\\hp\\OneDrive\\Desktop\\mlop\\Data/test/abnormal: test_abnormal_images.zip\n",
            "Downloadable zip files created.\n"
          ]
        }
      ]
    },
    {
      "cell_type": "code",
      "source": [
        "# Step 5: Split the data into train, validation, and test sets\n",
        "\n",
        "from sklearn.model_selection import train_test_split\n",
        "\n",
        "# Split data into train, validation, and test sets (80% train, 10% validation, 10% test)\n",
        "train_abnormal, temp_abnormal = train_test_split(abnormal_images, test_size=0.2, random_state=42)\n",
        "val_abnormal, test_abnormal = train_test_split(temp_abnormal, test_size=0.5, random_state=42)\n",
        "\n",
        "from sklearn.model_selection import train_test_split\n",
        "\n",
        "if len(normal_images) > 1:\n",
        "    train_normal, temp_normal = train_test_split(normal_images, test_size=0.2, random_state=42)\n",
        "    val_normal, test_normal = train_test_split(temp_normal, test_size=0.5, random_state=42)\n",
        "else:\n",
        "    # Handle case when there's only one image\n",
        "    train_normal = normal_images  # Use the single image directly for training\n",
        "    val_normal = []  # You may leave validation empty or handle as needed\n",
        "    test_normal = []  # Similarly, handle test as needed\n",
        "\n",
        "print(f\"Training Normal Images: {len(train_normal)}\")\n",
        "print(f\"Validation Normal Images: {len(val_normal)}\")\n",
        "print(f\"Testing Normal Images: {len(test_normal)}\")\n",
        "\n",
        "\n",
        "print(f\"Train Abnormal images: {len(train_abnormal)}\")\n",
        "print(f\"Validation Abnormal images: {len(val_abnormal)}\")\n",
        "print(f\"Test Abnormal images: {len(test_abnormal)}\")\n"
      ],
      "metadata": {
        "colab": {
          "base_uri": "https://localhost:8080/"
        },
        "id": "XhWpP0F3sGkX",
        "outputId": "7362d17c-9def-458f-b035-87802b3fb934"
      },
      "execution_count": 13,
      "outputs": [
        {
          "output_type": "stream",
          "name": "stdout",
          "text": [
            "Training Normal Images: 1\n",
            "Validation Normal Images: 0\n",
            "Testing Normal Images: 0\n",
            "Train Abnormal images: 187\n",
            "Validation Abnormal images: 23\n",
            "Test Abnormal images: 24\n"
          ]
        }
      ]
    },
    {
      "cell_type": "code",
      "source": [
        "# Step 7: Build a Convolutional Neural Network (CNN) Model\n",
        "\n",
        "from tensorflow.keras.models import Sequential\n",
        "from tensorflow.keras.layers import Conv2D, MaxPooling2D, Flatten, Dense, Dropout\n",
        "\n",
        "# Build CNN Model\n",
        "model = Sequential([\n",
        "    Conv2D(32, (3, 3), activation='relu', input_shape=(150, 150, 3)),\n",
        "    MaxPooling2D(pool_size=(2, 2)),\n",
        "    Conv2D(64, (3, 3), activation='relu'),\n",
        "    MaxPooling2D(pool_size=(2, 2)),\n",
        "    Conv2D(128, (3, 3), activation='relu'),\n",
        "    MaxPooling2D(pool_size=(2, 2)),\n",
        "    Flatten(),\n",
        "    Dense(128, activation='relu'),\n",
        "    Dropout(0.5),\n",
        "    Dense(1, activation='sigmoid')  # Sigmoid activation for binary classification\n",
        "])\n",
        "\n",
        "model.compile(optimizer='adam', loss='binary_crossentropy', metrics=['accuracy'])"
      ],
      "metadata": {
        "colab": {
          "base_uri": "https://localhost:8080/"
        },
        "id": "dk-n9afpuJyu",
        "outputId": "00dbcd08-ca5b-47cd-bfb0-cdcdda449876"
      },
      "execution_count": 14,
      "outputs": [
        {
          "output_type": "stream",
          "name": "stderr",
          "text": [
            "/usr/local/lib/python3.10/dist-packages/keras/src/layers/convolutional/base_conv.py:107: UserWarning: Do not pass an `input_shape`/`input_dim` argument to a layer. When using Sequential models, prefer using an `Input(shape)` object as the first layer in the model instead.\n",
            "  super().__init__(activity_regularizer=activity_regularizer, **kwargs)\n"
          ]
        }
      ]
    },
    {
      "cell_type": "code",
      "source": [
        "from tensorflow.keras.preprocessing.image import ImageDataGenerator"
      ],
      "metadata": {
        "id": "L5suHiaRzQ6Q"
      },
      "execution_count": 30,
      "outputs": []
    },
    {
      "cell_type": "code",
      "source": [
        "# Import necessary libraries from TensorFlow\n",
        "from tensorflow.keras.preprocessing.image import ImageDataGenerator\n",
        "\n",
        "# Define the image data generators\n",
        "train_datagen = ImageDataGenerator(rescale=1./255)  # Apply rescaling to images\n",
        "val_datagen = ImageDataGenerator(rescale=1./255)    # Same for validation\n",
        "test_datagen = ImageDataGenerator(rescale=1./255)   # Same for testing"
      ],
      "metadata": {
        "id": "_4EkmNvFy72n"
      },
      "execution_count": 32,
      "outputs": []
    },
    {
      "cell_type": "code",
      "source": [
        "# Training data\n",
        "train_generator = train_datagen.flow_from_directory(\n",
        "    r'/content/C:\\Users\\hp\\OneDrive\\Desktop\\mlop\\Data/train',  # Use raw string (prefix 'r') to handle backslashes\n",
        "    target_size=(150, 150),        # Resize all images to 150x150\n",
        "    batch_size=32,\n",
        "    class_mode='binary'            # Change based on your classification task (binary or categorical)\n",
        ")\n",
        "\n",
        "val_generator = val_datagen.flow_from_directory(\n",
        "    r'/content/C:\\Users\\hp\\OneDrive\\Desktop\\mlop\\Data/validation',  # Use raw string for Windows path\n",
        "    target_size=(150, 150),             # Resize all images to 150x150\n",
        "    batch_size=32,\n",
        "    class_mode='binary'                 # Change based on your classification task\n",
        ")\n",
        "\n",
        "test_generator = test_datagen.flow_from_directory(\n",
        "    r'/content/C:\\Users\\hp\\OneDrive\\Desktop\\mlop\\Data/test',  # Use raw string for Windows path\n",
        "    target_size=(150, 150),        # Resize all images to 150x150\n",
        "    batch_size=32,\n",
        "    class_mode='binary'            # Change based on your classification task\n",
        ")\n"
      ],
      "metadata": {
        "colab": {
          "base_uri": "https://localhost:8080/"
        },
        "id": "atpaAZGuys3O",
        "outputId": "5d67ad8d-1818-4a75-fd57-1447a785a4e3"
      },
      "execution_count": 33,
      "outputs": [
        {
          "output_type": "stream",
          "name": "stdout",
          "text": [
            "Found 419 images belonging to 1 classes.\n",
            "Found 23 images belonging to 1 classes.\n",
            "Found 24 images belonging to 1 classes.\n"
          ]
        }
      ]
    },
    {
      "cell_type": "code",
      "source": [
        "# Step 8: Train the model\n",
        "history = model.fit(\n",
        "    train_generator,\n",
        "    epochs=10,\n",
        "    validation_data=val_generator\n",
        ")"
      ],
      "metadata": {
        "colab": {
          "base_uri": "https://localhost:8080/"
        },
        "id": "kCMduoOOuQ7O",
        "outputId": "297bea52-1a0f-4855-a457-040889c5be2b"
      },
      "execution_count": 34,
      "outputs": [
        {
          "output_type": "stream",
          "name": "stdout",
          "text": [
            "Epoch 1/10\n"
          ]
        },
        {
          "output_type": "stream",
          "name": "stderr",
          "text": [
            "/usr/local/lib/python3.10/dist-packages/keras/src/trainers/data_adapters/py_dataset_adapter.py:121: UserWarning: Your `PyDataset` class should call `super().__init__(**kwargs)` in its constructor. `**kwargs` can include `workers`, `use_multiprocessing`, `max_queue_size`. Do not pass these arguments to `fit()`, as they will be ignored.\n",
            "  self._warn_if_super_not_called()\n"
          ]
        },
        {
          "output_type": "stream",
          "name": "stdout",
          "text": [
            "\u001b[1m14/14\u001b[0m \u001b[32m━━━━━━━━━━━━━━━━━━━━\u001b[0m\u001b[37m\u001b[0m \u001b[1m49s\u001b[0m 3s/step - accuracy: 0.8364 - loss: 0.1760 - val_accuracy: 1.0000 - val_loss: 0.0000e+00\n",
            "Epoch 2/10\n",
            "\u001b[1m14/14\u001b[0m \u001b[32m━━━━━━━━━━━━━━━━━━━━\u001b[0m\u001b[37m\u001b[0m \u001b[1m33s\u001b[0m 2s/step - accuracy: 1.0000 - loss: 5.4001e-32 - val_accuracy: 1.0000 - val_loss: 0.0000e+00\n",
            "Epoch 3/10\n",
            "\u001b[1m14/14\u001b[0m \u001b[32m━━━━━━━━━━━━━━━━━━━━\u001b[0m\u001b[37m\u001b[0m \u001b[1m33s\u001b[0m 2s/step - accuracy: 1.0000 - loss: 0.0000e+00 - val_accuracy: 1.0000 - val_loss: 0.0000e+00\n",
            "Epoch 4/10\n",
            "\u001b[1m14/14\u001b[0m \u001b[32m━━━━━━━━━━━━━━━━━━━━\u001b[0m\u001b[37m\u001b[0m \u001b[1m41s\u001b[0m 2s/step - accuracy: 1.0000 - loss: 0.0000e+00 - val_accuracy: 1.0000 - val_loss: 0.0000e+00\n",
            "Epoch 5/10\n",
            "\u001b[1m14/14\u001b[0m \u001b[32m━━━━━━━━━━━━━━━━━━━━\u001b[0m\u001b[37m\u001b[0m \u001b[1m33s\u001b[0m 2s/step - accuracy: 1.0000 - loss: 0.0000e+00 - val_accuracy: 1.0000 - val_loss: 0.0000e+00\n",
            "Epoch 6/10\n",
            "\u001b[1m14/14\u001b[0m \u001b[32m━━━━━━━━━━━━━━━━━━━━\u001b[0m\u001b[37m\u001b[0m \u001b[1m41s\u001b[0m 2s/step - accuracy: 1.0000 - loss: 0.0000e+00 - val_accuracy: 1.0000 - val_loss: 0.0000e+00\n",
            "Epoch 7/10\n",
            "\u001b[1m14/14\u001b[0m \u001b[32m━━━━━━━━━━━━━━━━━━━━\u001b[0m\u001b[37m\u001b[0m \u001b[1m40s\u001b[0m 2s/step - accuracy: 1.0000 - loss: 0.0000e+00 - val_accuracy: 1.0000 - val_loss: 0.0000e+00\n",
            "Epoch 8/10\n",
            "\u001b[1m14/14\u001b[0m \u001b[32m━━━━━━━━━━━━━━━━━━━━\u001b[0m\u001b[37m\u001b[0m \u001b[1m42s\u001b[0m 2s/step - accuracy: 1.0000 - loss: 0.0000e+00 - val_accuracy: 1.0000 - val_loss: 0.0000e+00\n",
            "Epoch 9/10\n",
            "\u001b[1m14/14\u001b[0m \u001b[32m━━━━━━━━━━━━━━━━━━━━\u001b[0m\u001b[37m\u001b[0m \u001b[1m41s\u001b[0m 2s/step - accuracy: 1.0000 - loss: 0.0000e+00 - val_accuracy: 1.0000 - val_loss: 0.0000e+00\n",
            "Epoch 10/10\n",
            "\u001b[1m14/14\u001b[0m \u001b[32m━━━━━━━━━━━━━━━━━━━━\u001b[0m\u001b[37m\u001b[0m \u001b[1m40s\u001b[0m 2s/step - accuracy: 1.0000 - loss: 0.0000e+00 - val_accuracy: 1.0000 - val_loss: 0.0000e+00\n"
          ]
        }
      ]
    },
    {
      "cell_type": "code",
      "source": [
        "# Step 9: Save the model\n",
        "model.save('/content/ecg_model.h5')\n",
        "\n",
        "print(\"Model saved as ecg_model.h5\")\n",
        "\n",
        "# Step 10: Evaluate the model\n",
        "test_loss, test_acc = model.evaluate(test_generator)\n",
        "print(f\"Test Accuracy: {test_acc}\")"
      ],
      "metadata": {
        "colab": {
          "base_uri": "https://localhost:8080/"
        },
        "id": "abM33y3QsJUE",
        "outputId": "003cf67b-ebb1-4c5a-9c5c-84d7ef635b1f"
      },
      "execution_count": 35,
      "outputs": [
        {
          "output_type": "stream",
          "name": "stderr",
          "text": [
            "WARNING:absl:You are saving your model as an HDF5 file via `model.save()` or `keras.saving.save_model(model)`. This file format is considered legacy. We recommend using instead the native Keras format, e.g. `model.save('my_model.keras')` or `keras.saving.save_model(model, 'my_model.keras')`. \n"
          ]
        },
        {
          "output_type": "stream",
          "name": "stdout",
          "text": [
            "Model saved as ecg_model.h5\n",
            "\u001b[1m1/1\u001b[0m \u001b[32m━━━━━━━━━━━━━━━━━━━━\u001b[0m\u001b[37m\u001b[0m \u001b[1m1s\u001b[0m 898ms/step - accuracy: 1.0000 - loss: 0.0000e+00\n",
            "Test Accuracy: 1.0\n"
          ]
        }
      ]
    },
    {
      "cell_type": "code",
      "source": [],
      "metadata": {
        "id": "VpOyk_vp0Lxa"
      },
      "execution_count": null,
      "outputs": []
    }
  ]
}